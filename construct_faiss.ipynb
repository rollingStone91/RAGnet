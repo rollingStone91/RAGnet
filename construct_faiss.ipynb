{
 "cells": [
  {
   "cell_type": "code",
   "execution_count": null,
   "id": "28eb6a6f",
   "metadata": {},
   "outputs": [],
   "source": [
    "import os\n",
    "from client import Client\n",
    "os.environ[\"CUDA_VISIBLE_DEVICES\"] = \"3\"\n",
    "# 选择显卡"
   ]
  },
  {
   "cell_type": "code",
   "execution_count": null,
   "id": "a2b79a78",
   "metadata": {},
   "outputs": [],
   "source": [
    "def count_files(directory):\n",
    "    return sum([len(files) for _, _, files in os.walk(directory)])\n",
    "\n",
    "# 统计文件数量，这里路径选择数据集存放位置\n",
    "print(count_files(\"./classified/classified/common_sense\"))\n"
   ]
  },
  {
   "cell_type": "code",
   "execution_count": null,
   "id": "8c1837e9",
   "metadata": {},
   "outputs": [],
   "source": [
    "# 新建一个client对象，路径选择向量库要保存的位置\n",
    "client = Client(vectorstore_path='./vector_length_1024_db_0.6b')"
   ]
  },
  {
   "cell_type": "code",
   "execution_count": null,
   "id": "808885f6",
   "metadata": {},
   "outputs": [],
   "source": [
    "# 读取json文件，这里的路径替换成数据集存放的位置\n",
    "docs = client._load_json_folder(folder_path=\"./classified/classified/common_sense\", start=0)"
   ]
  },
  {
   "cell_type": "code",
   "execution_count": null,
   "id": "4f8867a5",
   "metadata": {},
   "outputs": [],
   "source": [
    "client.build_vectorstore(docs=docs, incremental=True)"
   ]
  }
 ],
 "metadata": {
  "language_info": {
   "name": "python"
  }
 },
 "nbformat": 4,
 "nbformat_minor": 5
}
