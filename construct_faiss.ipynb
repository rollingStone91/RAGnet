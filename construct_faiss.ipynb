{
 "cells": [
  {
   "cell_type": "code",
   "execution_count": 1,
   "id": "28eb6a6f",
   "metadata": {},
   "outputs": [],
   "source": [
    "from client import Client\n",
    "from server_algo import Server_with_Algorithm\n",
    "from server import Server\n",
    "from datasets import load_dataset\n",
    "import validation\n",
    "import json\n",
    "import os\n",
    "os.environ[\"CUDA_VISIBLE_DEVICES\"] = \"3\""
   ]
  },
  {
   "cell_type": "code",
   "execution_count": 2,
   "id": "a2b79a78",
   "metadata": {},
   "outputs": [
    {
     "name": "stdout",
     "output_type": "stream",
     "text": [
      "37067\n"
     ]
    }
   ],
   "source": [
    "def count_files(directory):\n",
    "    return sum([len(files) for _, _, files in os.walk(directory)])\n",
    "\n",
    "# 统计文件数量，这里路径选择数据集存放位置\n",
    "print(count_files(\"./classified/classified/common_sense\"))\n"
   ]
  },
  {
   "cell_type": "code",
   "execution_count": 3,
   "id": "8c1837e9",
   "metadata": {},
   "outputs": [
    {
     "name": "stderr",
     "output_type": "stream",
     "text": [
      "/home/weiwei/RAGnet/client.py:63: LangChainDeprecationWarning: The class `HuggingFaceEmbeddings` was deprecated in LangChain 0.2.2 and will be removed in 1.0. An updated version of the class exists in the :class:`~langchain-huggingface package and should be used instead. To use it run `pip install -U :class:`~langchain-huggingface` and import as `from :class:`~langchain_huggingface import HuggingFaceEmbeddings``.\n",
      "  embeddings = HuggingFaceEmbeddings(model_name=model_path,\n"
     ]
    },
    {
     "name": "stdout",
     "output_type": "stream",
     "text": [
      "Vectorstore ./vector_length_512_db_0.6b loaded.\n"
     ]
    }
   ],
   "source": [
    "# 新建一个client对象，路径选择向量库要保存的位置\n",
    "client = Client(vectorstore_path='./vector_length_512_db_0.6b', dim=512)\n",
    "client.load_vectorstore()"
   ]
  },
  {
   "cell_type": "code",
   "execution_count": 4,
   "id": "808885f6",
   "metadata": {},
   "outputs": [
    {
     "name": "stderr",
     "output_type": "stream",
     "text": [
      "/home/weiwei/RAGnet/server_algo.py:36: LangChainDeprecationWarning: The class `ChatOllama` was deprecated in LangChain 0.3.1 and will be removed in 1.0.0. An updated version of the class exists in the :class:`~langchain-ollama package and should be used instead. To use it run `pip install -U :class:`~langchain-ollama` and import as `from :class:`~langchain_ollama import ChatOllama``.\n",
      "  self.llm = ChatOllama(model=model_name)\n"
     ]
    }
   ],
   "source": [
    "# 3.创建server对象，这里需要选择模型，请预先在ollama上部署\n",
    "# server = Server_with_Algorithm(model_name=\"qwen3:4b\")\n",
    "server = Server_with_Algorithm(model_name=\"qwen3:4b\")"
   ]
  },
  {
   "cell_type": "code",
   "execution_count": null,
   "id": "cf0f4bbe",
   "metadata": {},
   "outputs": [],
   "source": [
    "# 4.加载测试数据集\n",
    "\n",
    "# 问答数据集路径\n",
    "samples = client._load_json_folder()"
   ]
  },
  {
   "cell_type": "code",
   "execution_count": 7,
   "id": "4f8867a5",
   "metadata": {},
   "outputs": [
    {
     "name": "stdout",
     "output_type": "stream",
     "text": [
      "Processing question: What rights must an agreement include for IGER when collaborating with a not-for-profit third party on environmental research?\n",
      "Background: if IGER would enter into any agreement (or amendment of an existing agreement including without limitation EXISTING AGREEMENTS) after the Effective Date with a not-for-profit third party with respect to research in the field of environmental impact, carbon sequestration, climate change mitigation, agronomy, or compositional or conversion analysis relating to COLLABORATION CROPS, such agreement must provide that (i) IGER will receive the exclusive right (subject to Articles 5.1.2(a) and 5.2) to use and exploit commercially the results obtained pursuant to such agreement for GERMPLASM IMPROVEMENT of COLLABORATION CROPS and (ii) CERES will have access to the results of such research programs to the extent allowed by the relevant agreement between IGER and the third party and IGER will use reasonable efforts to obtain such right for CERES.'\n",
      "Gold_Answer: ['exclusive right', 'use results', 'exploit commercially']\n",
      "原始向量维度: 512\n",
      "[Error] POST http://439fdd8d.r16.vip.cpolar.cn/gen_pedersen_merkle_proof failed: 404 Client Error: Not Found for url: http://439fdd8d.r16.vip.cpolar.cn/gen_pedersen_merkle_proof\n",
      "gen pedersen proof:None\n"
     ]
    },
    {
     "ename": "TypeError",
     "evalue": "'NoneType' object is not subscriptable",
     "output_type": "error",
     "traceback": [
      "\u001b[0;31m---------------------------------------------------------------------------\u001b[0m",
      "\u001b[0;31mTypeError\u001b[0m                                 Traceback (most recent call last)",
      "Cell \u001b[0;32mIn[7], line 1\u001b[0m\n\u001b[0;32m----> 1\u001b[0m \u001b[43mvalidation\u001b[49m\u001b[38;5;241;43m.\u001b[39;49m\u001b[43mdatasets_costs\u001b[49m\u001b[43m(\u001b[49m\u001b[43m[\u001b[49m\u001b[43mclient\u001b[49m\u001b[43m]\u001b[49m\u001b[43m,\u001b[49m\u001b[43m \u001b[49m\u001b[43mserver\u001b[49m\u001b[43m,\u001b[49m\u001b[43m \u001b[49m\u001b[43mtop_k\u001b[49m\u001b[38;5;241;43m=\u001b[39;49m\u001b[38;5;241;43m5\u001b[39;49m\u001b[43m,\u001b[49m\u001b[43m \u001b[49m\u001b[43msamples\u001b[49m\u001b[38;5;241;43m=\u001b[39;49m\u001b[43msamples\u001b[49m\u001b[43m,\u001b[49m\u001b[43m \u001b[49m\u001b[43moutput_csv\u001b[49m\u001b[38;5;241;43m=\u001b[39;49m\u001b[38;5;124;43m\"\u001b[39;49m\u001b[38;5;124;43malgorithm_cost_512.csv\u001b[39;49m\u001b[38;5;124;43m\"\u001b[39;49m\u001b[43m)\u001b[49m\n",
      "File \u001b[0;32m~/RAGnet/validation.py:67\u001b[0m, in \u001b[0;36mdatasets_costs\u001b[0;34m(clients, server, top_k, samples, output_csv)\u001b[0m\n\u001b[1;32m     65\u001b[0m \u001b[38;5;28mprint\u001b[39m(\u001b[38;5;124mf\u001b[39m\u001b[38;5;124m\"\u001b[39m\u001b[38;5;124mGold_Answer: \u001b[39m\u001b[38;5;132;01m{\u001b[39;00msample[\u001b[38;5;124m'\u001b[39m\u001b[38;5;124manswer\u001b[39m\u001b[38;5;124m'\u001b[39m]\u001b[38;5;132;01m}\u001b[39;00m\u001b[38;5;124m\"\u001b[39m)\n\u001b[1;32m     66\u001b[0m \u001b[38;5;66;03m# 调用 LLM Server\u001b[39;00m\n\u001b[0;32m---> 67\u001b[0m cost, answer \u001b[38;5;241m=\u001b[39m \u001b[43mserver\u001b[49m\u001b[38;5;241;43m.\u001b[39;49m\u001b[43mmulti_client_generate\u001b[49m\u001b[43m(\u001b[49m\u001b[43mbackground\u001b[49m\u001b[43m,\u001b[49m\u001b[43m \u001b[49m\u001b[43mquestion\u001b[49m\u001b[43m,\u001b[49m\u001b[43m \u001b[49m\u001b[43mclients\u001b[49m\u001b[43m,\u001b[49m\u001b[43m \u001b[49m\u001b[43mtop_k\u001b[49m\u001b[43m)\u001b[49m\n\u001b[1;32m     69\u001b[0m costs\u001b[38;5;241m.\u001b[39mappend({\n\u001b[1;32m     70\u001b[0m     \u001b[38;5;124m\"\u001b[39m\u001b[38;5;124midx\u001b[39m\u001b[38;5;124m\"\u001b[39m: idx,\n\u001b[1;32m     71\u001b[0m     \u001b[38;5;124m\"\u001b[39m\u001b[38;5;124mretrieval_time\u001b[39m\u001b[38;5;124m\"\u001b[39m: cost\u001b[38;5;241m.\u001b[39mretrieval_time,\n\u001b[0;32m   (...)\u001b[0m\n\u001b[1;32m     78\u001b[0m     \u001b[38;5;124m\"\u001b[39m\u001b[38;5;124mpog_proof_size\u001b[39m\u001b[38;5;124m\"\u001b[39m: cost\u001b[38;5;241m.\u001b[39mpog_proof_size,\n\u001b[1;32m     79\u001b[0m })\n\u001b[1;32m     81\u001b[0m \u001b[38;5;28;01mif\u001b[39;00m idx \u001b[38;5;241m%\u001b[39m \u001b[38;5;241m10\u001b[39m \u001b[38;5;241m==\u001b[39m \u001b[38;5;241m0\u001b[39m:\n",
      "File \u001b[0;32m~/RAGnet/server_algo.py:181\u001b[0m, in \u001b[0;36mServer_with_Algorithm.multi_client_generate\u001b[0;34m(self, background, query, clients, top_k, dim)\u001b[0m\n\u001b[1;32m    178\u001b[0m \u001b[38;5;66;03m# RAG 检索 + LLM 生成 \u001b[39;00m\n\u001b[1;32m    179\u001b[0m \u001b[38;5;28mself\u001b[39m\u001b[38;5;241m.\u001b[39mcost \u001b[38;5;241m=\u001b[39m Cost_Algorithm(time\u001b[38;5;241m.\u001b[39mtime())\n\u001b[0;32m--> 181\u001b[0m all_proofs, q_vec \u001b[38;5;241m=\u001b[39m \u001b[38;5;28;43mself\u001b[39;49m\u001b[38;5;241;43m.\u001b[39;49m\u001b[43m_retrieve_from_clients\u001b[49m\u001b[43m(\u001b[49m\u001b[43mclients\u001b[49m\u001b[43m,\u001b[49m\u001b[43m \u001b[49m\u001b[43mquery\u001b[49m\u001b[43m,\u001b[49m\u001b[43m \u001b[49m\u001b[43mtop_k\u001b[49m\u001b[43m)\u001b[49m\n\u001b[1;32m    183\u001b[0m \u001b[38;5;66;03m# 计算平均时间\u001b[39;00m\n\u001b[1;32m    184\u001b[0m proof_len \u001b[38;5;241m=\u001b[39m top_k \u001b[38;5;241m*\u001b[39m \u001b[38;5;28mlen\u001b[39m(clients)\n",
      "File \u001b[0;32m~/RAGnet/server_algo.py:66\u001b[0m, in \u001b[0;36mServer_with_Algorithm._retrieve_from_clients\u001b[0;34m(self, clients, query, top_k)\u001b[0m\n\u001b[1;32m     64\u001b[0m \u001b[38;5;28mprint\u001b[39m(\u001b[38;5;124mf\u001b[39m\u001b[38;5;124m\"\u001b[39m\u001b[38;5;124mgen pedersen proof:\u001b[39m\u001b[38;5;132;01m{\u001b[39;00mresponse\u001b[38;5;132;01m}\u001b[39;00m\u001b[38;5;124m\"\u001b[39m)\n\u001b[1;32m     65\u001b[0m \u001b[38;5;66;03m# response = json.loads(response)\u001b[39;00m\n\u001b[0;32m---> 66\u001b[0m p\u001b[38;5;241m.\u001b[39mpedersen_id \u001b[38;5;241m=\u001b[39m \u001b[43mresponse\u001b[49m\u001b[43m[\u001b[49m\u001b[38;5;124;43m\"\u001b[39;49m\u001b[38;5;124;43mproof_id\u001b[39;49m\u001b[38;5;124;43m\"\u001b[39;49m\u001b[43m]\u001b[49m\n\u001b[1;32m     67\u001b[0m \u001b[38;5;28mself\u001b[39m\u001b[38;5;241m.\u001b[39mcost\u001b[38;5;241m.\u001b[39mpor_proof_size \u001b[38;5;241m+\u001b[39m\u001b[38;5;241m=\u001b[39m response[\u001b[38;5;124m\"\u001b[39m\u001b[38;5;124mspace_cost\u001b[39m\u001b[38;5;124m\"\u001b[39m]\n\u001b[1;32m     68\u001b[0m \u001b[38;5;28mself\u001b[39m\u001b[38;5;241m.\u001b[39mcost\u001b[38;5;241m.\u001b[39mpor_proof_time \u001b[38;5;241m+\u001b[39m\u001b[38;5;241m=\u001b[39m response[\u001b[38;5;124m\"\u001b[39m\u001b[38;5;124mtime_cost\u001b[39m\u001b[38;5;124m\"\u001b[39m]\n",
      "\u001b[0;31mTypeError\u001b[0m: 'NoneType' object is not subscriptable"
     ]
    }
   ],
   "source": [
    "validation.datasets_costs([client], server, top_k=5, samples=samples, output_csv=\"algorithm_cost_512.csv\")"
   ]
  }
 ],
 "metadata": {
  "kernelspec": {
   "display_name": "rag_env",
   "language": "python",
   "name": "python3"
  },
  "language_info": {
   "codemirror_mode": {
    "name": "ipython",
    "version": 3
   },
   "file_extension": ".py",
   "mimetype": "text/x-python",
   "name": "python",
   "nbconvert_exporter": "python",
   "pygments_lexer": "ipython3",
   "version": "3.10.18"
  }
 },
 "nbformat": 4,
 "nbformat_minor": 5
}
