{
 "cells": [
  {
   "cell_type": "code",
   "execution_count": null,
   "id": "3b8189f6",
   "metadata": {},
   "outputs": [],
   "source": [
    "import os\n",
    "os.environ[\"CUDA_VISIBLE_DEVICES\"] = \"4\""
   ]
  },
  {
   "cell_type": "code",
   "execution_count": null,
   "id": "7e44d52b",
   "metadata": {},
   "outputs": [],
   "source": [
    "import torch\n",
    "print(\"当前设备：\", torch.cuda.current_device())\n",
    "print(\"设备名：\", torch.cuda.get_device_name(0))"
   ]
  },
  {
   "cell_type": "code",
   "execution_count": null,
   "id": "9e5f41f9",
   "metadata": {},
   "outputs": [],
   "source": [
    "from client import Client\n",
    "from server_algo import Server_with_Algorithm\n",
    "from datasets import load_dataset\n",
    "import validation\n",
    "\n",
    "# DASHSCOPE_API_KEY = os.getenv(\"DASHSCOPE_API_KEY\")"
   ]
  },
  {
   "cell_type": "code",
   "execution_count": null,
   "id": "bdb4053f",
   "metadata": {},
   "outputs": [],
   "source": [
    "# 1.首先选择要进行实验的client\n",
    "clients = [Client(vectorstore_path=\"legalbench_db_0.6b\"), Client(vectorstore_path=\"common_sense_db\"),\n",
    "           Client(vectorstore_path=\"computer_science_coding_related_db\"), Client(vectorstore_path=\"law_related_db\"), \n",
    "           Client(vectorstore_path=\"medicine_related_db\")]\n",
    "# 2.对每个client进行加载\n",
    "for c in clients:\n",
    "    c.load_vectorstore()"
   ]
  },
  {
   "cell_type": "code",
   "execution_count": null,
   "id": "03f84640",
   "metadata": {},
   "outputs": [],
   "source": [
    "# 3.创建server对象，这里需要选择模型，请预先在ollama上部署\n",
    "server = Server_with_Algorithm(model_name=\"qwen3:4b\")"
   ]
  },
  {
   "cell_type": "code",
   "execution_count": null,
   "id": "db15490d",
   "metadata": {},
   "outputs": [],
   "source": [
    "# 4.加载测试数据集，这里以trivia_qa为例子，这里取前100个\n",
    "samples = load_dataset(\"trivia_qa\", \"rc\", split=\"test[:100]\")"
   ]
  },
  {
   "cell_type": "code",
   "execution_count": null,
   "id": "ff747fad",
   "metadata": {},
   "outputs": [],
   "source": [
    "# 5.进行评估，并生成csv文件\n",
    "await validation.evaluate_datasets(clients=clients, server=server, samples=samples,\n",
    "                              output_csv=\"trivia_qa_results.csv\", dataset_name=\"trivia_qa\")"
   ]
  }
 ],
 "metadata": {
  "kernelspec": {
   "display_name": "rag_env",
   "language": "python",
   "name": "python3"
  },
  "language_info": {
   "codemirror_mode": {
    "name": "ipython",
    "version": 3
   },
   "file_extension": ".py",
   "mimetype": "text/x-python",
   "name": "python",
   "nbconvert_exporter": "python",
   "pygments_lexer": "ipython3",
   "version": "3.10.18"
  }
 },
 "nbformat": 4,
 "nbformat_minor": 5
}
